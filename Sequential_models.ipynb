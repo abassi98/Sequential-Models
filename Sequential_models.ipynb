{
 "cells": [
  {
   "cell_type": "markdown",
   "id": "1e869ab8",
   "metadata": {},
   "source": [
    "# Sequential Deep Learning Models in Pytorch\n"
   ]
  },
  {
   "cell_type": "code",
   "execution_count": 2,
   "id": "9de78412",
   "metadata": {},
   "outputs": [],
   "source": [
    "#!/usr/bin/env python3\n",
    "\"\"\"\n",
    "@author Alberto Bassi & Riccardo Tomada\n",
    "\"\"\"\n",
    "# Essential\n",
    "import numpy as np\n",
    "import matplotlib.pyplot as plt\n",
    "import os\n",
    "import plotly.express as px\n",
    "import pandas as pd\n",
    "\n",
    "# Pytorch\n",
    "import torch\n",
    "import torch.nn as nn\n",
    "import torch.optim as optim\n",
    "from torch.utils.data import Dataset, DataLoader\n",
    "from torchvision import transforms, datasets\n",
    "\n",
    "# Neural Networks\n",
    "from models import RNN_layer, LSTM_layer\n",
    "\n",
    "# Progress bar\n",
    "from tqdm import tqdm\n",
    "from tqdm.notebook import tqdm_notebook\n",
    "from time import sleep\n",
    "\n"
   ]
  },
  {
   "cell_type": "markdown",
   "id": "410e9852",
   "metadata": {},
   "source": [
    "## Dataset and Dataloader"
   ]
  },
  {
   "cell_type": "code",
   "execution_count": 19,
   "id": "78aac233",
   "metadata": {},
   "outputs": [
    {
     "data": {
      "text/html": [
       "<div>\n",
       "<style scoped>\n",
       "    .dataframe tbody tr th:only-of-type {\n",
       "        vertical-align: middle;\n",
       "    }\n",
       "\n",
       "    .dataframe tbody tr th {\n",
       "        vertical-align: top;\n",
       "    }\n",
       "\n",
       "    .dataframe thead th {\n",
       "        text-align: right;\n",
       "    }\n",
       "</style>\n",
       "<table border=\"1\" class=\"dataframe\">\n",
       "  <thead>\n",
       "    <tr style=\"text-align: right;\">\n",
       "      <th></th>\n",
       "      <th>Open Time</th>\n",
       "      <th>Open</th>\n",
       "      <th>High</th>\n",
       "      <th>Low</th>\n",
       "      <th>Close</th>\n",
       "      <th>Volume</th>\n",
       "      <th>Close time</th>\n",
       "      <th>Quote asset volume</th>\n",
       "      <th>Number of trades</th>\n",
       "      <th>Taker buy base asset volume</th>\n",
       "      <th>Taker buy quote asset volume</th>\n",
       "    </tr>\n",
       "  </thead>\n",
       "  <tbody>\n",
       "    <tr>\n",
       "      <th>0</th>\n",
       "      <td>2017-11-06 03:00:00.000000000</td>\n",
       "      <td>1.5000</td>\n",
       "      <td>1.7990</td>\n",
       "      <td>0.5000</td>\n",
       "      <td>1.7000</td>\n",
       "      <td>649.120</td>\n",
       "      <td>2017-11-06 03:59:59.999000064</td>\n",
       "      <td>7.251214e+02</td>\n",
       "      <td>33.0</td>\n",
       "      <td>207.450</td>\n",
       "      <td>3.514144e+02</td>\n",
       "    </tr>\n",
       "    <tr>\n",
       "      <th>1</th>\n",
       "      <td>2017-11-06 04:00:00.000000000</td>\n",
       "      <td>1.3000</td>\n",
       "      <td>1.6500</td>\n",
       "      <td>1.3000</td>\n",
       "      <td>1.6479</td>\n",
       "      <td>8147.720</td>\n",
       "      <td>2017-11-06 04:59:59.999000064</td>\n",
       "      <td>1.270853e+04</td>\n",
       "      <td>139.0</td>\n",
       "      <td>2130.590</td>\n",
       "      <td>3.436513e+03</td>\n",
       "    </tr>\n",
       "    <tr>\n",
       "      <th>2</th>\n",
       "      <td>2017-11-06 05:00:00.000000000</td>\n",
       "      <td>1.5457</td>\n",
       "      <td>1.5525</td>\n",
       "      <td>1.5455</td>\n",
       "      <td>1.5458</td>\n",
       "      <td>6628.200</td>\n",
       "      <td>2017-11-06 05:59:59.999000064</td>\n",
       "      <td>1.026534e+04</td>\n",
       "      <td>27.0</td>\n",
       "      <td>563.920</td>\n",
       "      <td>8.754265e+02</td>\n",
       "    </tr>\n",
       "    <tr>\n",
       "      <th>3</th>\n",
       "      <td>2017-11-06 06:00:00.000000000</td>\n",
       "      <td>1.5458</td>\n",
       "      <td>1.6810</td>\n",
       "      <td>1.5387</td>\n",
       "      <td>1.6810</td>\n",
       "      <td>22767.900</td>\n",
       "      <td>2017-11-06 06:59:59.999000064</td>\n",
       "      <td>3.650714e+04</td>\n",
       "      <td>133.0</td>\n",
       "      <td>12886.750</td>\n",
       "      <td>2.124768e+04</td>\n",
       "    </tr>\n",
       "    <tr>\n",
       "      <th>4</th>\n",
       "      <td>2017-11-06 07:00:00.000000000</td>\n",
       "      <td>1.6809</td>\n",
       "      <td>1.6809</td>\n",
       "      <td>1.6000</td>\n",
       "      <td>1.6250</td>\n",
       "      <td>14938.730</td>\n",
       "      <td>2017-11-06 07:59:59.999000064</td>\n",
       "      <td>2.427873e+04</td>\n",
       "      <td>58.0</td>\n",
       "      <td>7162.660</td>\n",
       "      <td>1.164245e+04</td>\n",
       "    </tr>\n",
       "    <tr>\n",
       "      <th>...</th>\n",
       "      <td>...</td>\n",
       "      <td>...</td>\n",
       "      <td>...</td>\n",
       "      <td>...</td>\n",
       "      <td>...</td>\n",
       "      <td>...</td>\n",
       "      <td>...</td>\n",
       "      <td>...</td>\n",
       "      <td>...</td>\n",
       "      <td>...</td>\n",
       "      <td>...</td>\n",
       "    </tr>\n",
       "    <tr>\n",
       "      <th>34746</th>\n",
       "      <td>2021-10-28 20:00:00</td>\n",
       "      <td>491.0000</td>\n",
       "      <td>494.8000</td>\n",
       "      <td>477.9000</td>\n",
       "      <td>490.5000</td>\n",
       "      <td>90431.134</td>\n",
       "      <td>2021-10-28 20:59:59.999000064</td>\n",
       "      <td>4.444162e+07</td>\n",
       "      <td>75832.0</td>\n",
       "      <td>40715.355</td>\n",
       "      <td>2.003381e+07</td>\n",
       "    </tr>\n",
       "    <tr>\n",
       "      <th>34747</th>\n",
       "      <td>2021-10-28 21:00:00</td>\n",
       "      <td>490.5000</td>\n",
       "      <td>490.5000</td>\n",
       "      <td>485.8000</td>\n",
       "      <td>489.8000</td>\n",
       "      <td>37248.759</td>\n",
       "      <td>2021-10-28 21:59:59.999000064</td>\n",
       "      <td>1.818572e+07</td>\n",
       "      <td>43707.0</td>\n",
       "      <td>19556.122</td>\n",
       "      <td>9.550490e+06</td>\n",
       "    </tr>\n",
       "    <tr>\n",
       "      <th>34748</th>\n",
       "      <td>2021-10-28 22:00:00</td>\n",
       "      <td>489.9000</td>\n",
       "      <td>491.3000</td>\n",
       "      <td>488.5000</td>\n",
       "      <td>489.3000</td>\n",
       "      <td>38162.017</td>\n",
       "      <td>2021-10-28 22:59:59.999000064</td>\n",
       "      <td>1.871114e+07</td>\n",
       "      <td>28600.0</td>\n",
       "      <td>21584.731</td>\n",
       "      <td>1.058593e+07</td>\n",
       "    </tr>\n",
       "    <tr>\n",
       "      <th>34749</th>\n",
       "      <td>2021-10-28 23:00:00</td>\n",
       "      <td>489.3000</td>\n",
       "      <td>492.3000</td>\n",
       "      <td>487.4000</td>\n",
       "      <td>491.9000</td>\n",
       "      <td>49811.734</td>\n",
       "      <td>2021-10-28 23:59:59.999000064</td>\n",
       "      <td>2.442102e+07</td>\n",
       "      <td>28422.0</td>\n",
       "      <td>25969.233</td>\n",
       "      <td>1.273187e+07</td>\n",
       "    </tr>\n",
       "    <tr>\n",
       "      <th>34750</th>\n",
       "      <td>2021-10-29 00:00:00</td>\n",
       "      <td>492.0000</td>\n",
       "      <td>496.1000</td>\n",
       "      <td>488.3000</td>\n",
       "      <td>495.9000</td>\n",
       "      <td>49584.099</td>\n",
       "      <td>2021-10-29 00:59:59.999000064</td>\n",
       "      <td>2.441381e+07</td>\n",
       "      <td>36255.0</td>\n",
       "      <td>28833.995</td>\n",
       "      <td>1.420486e+07</td>\n",
       "    </tr>\n",
       "  </tbody>\n",
       "</table>\n",
       "<p>34751 rows × 11 columns</p>\n",
       "</div>"
      ],
      "text/plain": [
       "                           Open Time      Open      High       Low     Close  \\\n",
       "0      2017-11-06 03:00:00.000000000    1.5000    1.7990    0.5000    1.7000   \n",
       "1      2017-11-06 04:00:00.000000000    1.3000    1.6500    1.3000    1.6479   \n",
       "2      2017-11-06 05:00:00.000000000    1.5457    1.5525    1.5455    1.5458   \n",
       "3      2017-11-06 06:00:00.000000000    1.5458    1.6810    1.5387    1.6810   \n",
       "4      2017-11-06 07:00:00.000000000    1.6809    1.6809    1.6000    1.6250   \n",
       "...                              ...       ...       ...       ...       ...   \n",
       "34746            2021-10-28 20:00:00  491.0000  494.8000  477.9000  490.5000   \n",
       "34747            2021-10-28 21:00:00  490.5000  490.5000  485.8000  489.8000   \n",
       "34748            2021-10-28 22:00:00  489.9000  491.3000  488.5000  489.3000   \n",
       "34749            2021-10-28 23:00:00  489.3000  492.3000  487.4000  491.9000   \n",
       "34750            2021-10-29 00:00:00  492.0000  496.1000  488.3000  495.9000   \n",
       "\n",
       "          Volume                     Close time  Quote asset volume  \\\n",
       "0        649.120  2017-11-06 03:59:59.999000064        7.251214e+02   \n",
       "1       8147.720  2017-11-06 04:59:59.999000064        1.270853e+04   \n",
       "2       6628.200  2017-11-06 05:59:59.999000064        1.026534e+04   \n",
       "3      22767.900  2017-11-06 06:59:59.999000064        3.650714e+04   \n",
       "4      14938.730  2017-11-06 07:59:59.999000064        2.427873e+04   \n",
       "...          ...                            ...                 ...   \n",
       "34746  90431.134  2021-10-28 20:59:59.999000064        4.444162e+07   \n",
       "34747  37248.759  2021-10-28 21:59:59.999000064        1.818572e+07   \n",
       "34748  38162.017  2021-10-28 22:59:59.999000064        1.871114e+07   \n",
       "34749  49811.734  2021-10-28 23:59:59.999000064        2.442102e+07   \n",
       "34750  49584.099  2021-10-29 00:59:59.999000064        2.441381e+07   \n",
       "\n",
       "       Number of trades  Taker buy base asset volume  \\\n",
       "0                  33.0                      207.450   \n",
       "1                 139.0                     2130.590   \n",
       "2                  27.0                      563.920   \n",
       "3                 133.0                    12886.750   \n",
       "4                  58.0                     7162.660   \n",
       "...                 ...                          ...   \n",
       "34746           75832.0                    40715.355   \n",
       "34747           43707.0                    19556.122   \n",
       "34748           28600.0                    21584.731   \n",
       "34749           28422.0                    25969.233   \n",
       "34750           36255.0                    28833.995   \n",
       "\n",
       "       Taker buy quote asset volume  \n",
       "0                      3.514144e+02  \n",
       "1                      3.436513e+03  \n",
       "2                      8.754265e+02  \n",
       "3                      2.124768e+04  \n",
       "4                      1.164245e+04  \n",
       "...                             ...  \n",
       "34746                  2.003381e+07  \n",
       "34747                  9.550490e+06  \n",
       "34748                  1.058593e+07  \n",
       "34749                  1.273187e+07  \n",
       "34750                  1.420486e+07  \n",
       "\n",
       "[34751 rows x 11 columns]"
      ]
     },
     "execution_count": 19,
     "metadata": {},
     "output_type": "execute_result"
    }
   ],
   "source": [
    "# Visualize as pandas dataframe\n",
    "file = pd.read_csv(\"bitcoin_dataset.csv\",usecols = (1,2,3,4,5,6,7,8,9,10,11))\n",
    "file"
   ]
  },
  {
   "cell_type": "code",
   "execution_count": 16,
   "id": "76bd74b4",
   "metadata": {},
   "outputs": [],
   "source": [
    "# Create a costum dataset class\n",
    "class CsvDataset(Dataset):\n",
    "\n",
    "    def __init__(self, csv_file, transform=None):\n",
    "        \"\"\"\n",
    "        Args:\n",
    "        csv_file (string): Path to the csv file.\n",
    "        transform (callable, optional): Optional transform to be applied\n",
    "            on a sample.\n",
    "        \"\"\"\n",
    "        self.transform = transform\n",
    "        \n",
    "        # Read the file and split the lines in a list\n",
    "        with open(csv_file, 'r') as f:\n",
    "            lines = f.read().split('\\n')\n",
    "            \n",
    "        # Get x and y values from each line and append to self.data\n",
    "        self.data = []\n",
    "        for line in lines:\n",
    "            sample = line.split(',')\n",
    "            len_sample = len(sample)\n",
    "            self.data.append([sample[i] for i in range(len_sample)])\n",
    "            # Now self.data contains all our dataset.\n",
    "            # Each element of the list self.data is a tuple: (input, output)\n",
    "\n",
    "    def __len__(self):\n",
    "        # The length of the dataset is simply the length of the self.data list\n",
    "        return len(self.data)\n",
    "\n",
    "    def __getitem__(self, idx):\n",
    "        # Our sample is the element idx of the list self.data\n",
    "        sample = self.data[idx]\n",
    "        if self.transform:\n",
    "            sample = self.transform(sample)\n",
    "        return sample"
   ]
  },
  {
   "cell_type": "markdown",
   "id": "531a0cf9",
   "metadata": {},
   "source": [
    "## Transforms\n"
   ]
  },
  {
   "cell_type": "code",
   "execution_count": 17,
   "id": "50348687",
   "metadata": {},
   "outputs": [],
   "source": [
    "class ToTensor(object):\n",
    "    \"\"\"Convert sample to Tensors.\"\"\"\n",
    "\n",
    "    def __call__(self, sample):\n",
    "        x, y = sample\n",
    "        return (torch.tensor([x]).float(),\n",
    "                torch.tensor([y]).float())\n",
    "    \n"
   ]
  },
  {
   "cell_type": "code",
   "execution_count": 18,
   "id": "eec58191",
   "metadata": {},
   "outputs": [
    {
     "name": "stdout",
     "output_type": "stream",
     "text": [
      "34753\n"
     ]
    },
    {
     "ename": "ValueError",
     "evalue": "too many values to unpack (expected 2)",
     "output_type": "error",
     "traceback": [
      "\u001b[0;31m---------------------------------------------------------------------------\u001b[0m",
      "\u001b[0;31mValueError\u001b[0m                                Traceback (most recent call last)",
      "\u001b[0;32m<ipython-input-18-11eed79e7360>\u001b[0m in \u001b[0;36m<module>\u001b[0;34m\u001b[0m\n\u001b[1;32m      4\u001b[0m \u001b[0mdataset\u001b[0m \u001b[0;34m=\u001b[0m \u001b[0mCsvDataset\u001b[0m\u001b[0;34m(\u001b[0m\u001b[0;34m'bitcoin_dataset.csv'\u001b[0m\u001b[0;34m,\u001b[0m \u001b[0mtransform\u001b[0m\u001b[0;34m=\u001b[0m\u001b[0mcomposed_transform\u001b[0m\u001b[0;34m)\u001b[0m\u001b[0;34m\u001b[0m\u001b[0;34m\u001b[0m\u001b[0m\n\u001b[1;32m      5\u001b[0m \u001b[0mprint\u001b[0m\u001b[0;34m(\u001b[0m\u001b[0mdataset\u001b[0m\u001b[0;34m.\u001b[0m\u001b[0m__len__\u001b[0m\u001b[0;34m(\u001b[0m\u001b[0;34m)\u001b[0m\u001b[0;34m)\u001b[0m\u001b[0;34m\u001b[0m\u001b[0;34m\u001b[0m\u001b[0m\n\u001b[0;32m----> 6\u001b[0;31m \u001b[0mprint\u001b[0m\u001b[0;34m(\u001b[0m\u001b[0mdataset\u001b[0m\u001b[0;34m.\u001b[0m\u001b[0m__getitem__\u001b[0m\u001b[0;34m(\u001b[0m\u001b[0;36m10\u001b[0m\u001b[0;34m)\u001b[0m\u001b[0;34m)\u001b[0m\u001b[0;34m\u001b[0m\u001b[0;34m\u001b[0m\u001b[0m\n\u001b[0m",
      "\u001b[0;32m<ipython-input-16-22681355b1c6>\u001b[0m in \u001b[0;36m__getitem__\u001b[0;34m(self, idx)\u001b[0m\n\u001b[1;32m     32\u001b[0m         \u001b[0msample\u001b[0m \u001b[0;34m=\u001b[0m \u001b[0mself\u001b[0m\u001b[0;34m.\u001b[0m\u001b[0mdata\u001b[0m\u001b[0;34m[\u001b[0m\u001b[0midx\u001b[0m\u001b[0;34m]\u001b[0m\u001b[0;34m\u001b[0m\u001b[0;34m\u001b[0m\u001b[0m\n\u001b[1;32m     33\u001b[0m         \u001b[0;32mif\u001b[0m \u001b[0mself\u001b[0m\u001b[0;34m.\u001b[0m\u001b[0mtransform\u001b[0m\u001b[0;34m:\u001b[0m\u001b[0;34m\u001b[0m\u001b[0;34m\u001b[0m\u001b[0m\n\u001b[0;32m---> 34\u001b[0;31m             \u001b[0msample\u001b[0m \u001b[0;34m=\u001b[0m \u001b[0mself\u001b[0m\u001b[0;34m.\u001b[0m\u001b[0mtransform\u001b[0m\u001b[0;34m(\u001b[0m\u001b[0msample\u001b[0m\u001b[0;34m)\u001b[0m\u001b[0;34m\u001b[0m\u001b[0;34m\u001b[0m\u001b[0m\n\u001b[0m\u001b[1;32m     35\u001b[0m         \u001b[0;32mreturn\u001b[0m \u001b[0msample\u001b[0m\u001b[0;34m\u001b[0m\u001b[0;34m\u001b[0m\u001b[0m\n",
      "\u001b[0;32m~/opt/anaconda3/lib/python3.8/site-packages/torchvision/transforms/transforms.py\u001b[0m in \u001b[0;36m__call__\u001b[0;34m(self, img)\u001b[0m\n\u001b[1;32m     59\u001b[0m     \u001b[0;32mdef\u001b[0m \u001b[0m__call__\u001b[0m\u001b[0;34m(\u001b[0m\u001b[0mself\u001b[0m\u001b[0;34m,\u001b[0m \u001b[0mimg\u001b[0m\u001b[0;34m)\u001b[0m\u001b[0;34m:\u001b[0m\u001b[0;34m\u001b[0m\u001b[0;34m\u001b[0m\u001b[0m\n\u001b[1;32m     60\u001b[0m         \u001b[0;32mfor\u001b[0m \u001b[0mt\u001b[0m \u001b[0;32min\u001b[0m \u001b[0mself\u001b[0m\u001b[0;34m.\u001b[0m\u001b[0mtransforms\u001b[0m\u001b[0;34m:\u001b[0m\u001b[0;34m\u001b[0m\u001b[0;34m\u001b[0m\u001b[0m\n\u001b[0;32m---> 61\u001b[0;31m             \u001b[0mimg\u001b[0m \u001b[0;34m=\u001b[0m \u001b[0mt\u001b[0m\u001b[0;34m(\u001b[0m\u001b[0mimg\u001b[0m\u001b[0;34m)\u001b[0m\u001b[0;34m\u001b[0m\u001b[0;34m\u001b[0m\u001b[0m\n\u001b[0m\u001b[1;32m     62\u001b[0m         \u001b[0;32mreturn\u001b[0m \u001b[0mimg\u001b[0m\u001b[0;34m\u001b[0m\u001b[0;34m\u001b[0m\u001b[0m\n\u001b[1;32m     63\u001b[0m \u001b[0;34m\u001b[0m\u001b[0m\n",
      "\u001b[0;32m<ipython-input-17-a487d7ac6b6b>\u001b[0m in \u001b[0;36m__call__\u001b[0;34m(self, sample)\u001b[0m\n\u001b[1;32m      3\u001b[0m \u001b[0;34m\u001b[0m\u001b[0m\n\u001b[1;32m      4\u001b[0m     \u001b[0;32mdef\u001b[0m \u001b[0m__call__\u001b[0m\u001b[0;34m(\u001b[0m\u001b[0mself\u001b[0m\u001b[0;34m,\u001b[0m \u001b[0msample\u001b[0m\u001b[0;34m)\u001b[0m\u001b[0;34m:\u001b[0m\u001b[0;34m\u001b[0m\u001b[0;34m\u001b[0m\u001b[0m\n\u001b[0;32m----> 5\u001b[0;31m         \u001b[0mx\u001b[0m\u001b[0;34m,\u001b[0m \u001b[0my\u001b[0m \u001b[0;34m=\u001b[0m \u001b[0msample\u001b[0m\u001b[0;34m\u001b[0m\u001b[0;34m\u001b[0m\u001b[0m\n\u001b[0m\u001b[1;32m      6\u001b[0m         return (torch.tensor([x]).float(),\n\u001b[1;32m      7\u001b[0m                 torch.tensor([y]).float())\n",
      "\u001b[0;31mValueError\u001b[0m: too many values to unpack (expected 2)"
     ]
    }
   ],
   "source": [
    "# Dataset\n",
    "composed_transform = transforms.Compose([ToTensor()])\n",
    "\n",
    "dataset = CsvDataset('bitcoin_dataset.csv', transform=composed_transform)\n",
    "print(dataset.__len__())\n",
    "print(dataset.__getitem__(10))"
   ]
  },
  {
   "cell_type": "code",
   "execution_count": null,
   "id": "5ea1ec9f",
   "metadata": {},
   "outputs": [],
   "source": [
    "# Visualize dataset\n",
    "\n"
   ]
  },
  {
   "cell_type": "markdown",
   "id": "128a474f",
   "metadata": {},
   "source": [
    "## Dataloader"
   ]
  },
  {
   "cell_type": "code",
   "execution_count": null,
   "id": "f600a3b2",
   "metadata": {},
   "outputs": [],
   "source": [
    "train_dataloader = DataLoader(train_dataset, batch_size=4, shuffle=True, num_workers=0)\n",
    "val_dataloader  = DataLoader(val_dataset,  batch_size=len(val_dataset), shuffle=False, num_workers=0)"
   ]
  },
  {
   "cell_type": "markdown",
   "id": "81f58bb2",
   "metadata": {},
   "source": [
    "## Define the Network"
   ]
  },
  {
   "cell_type": "code",
   "execution_count": 4,
   "id": "3e247605",
   "metadata": {},
   "outputs": [
    {
     "name": "stdout",
     "output_type": "stream",
     "text": [
      "Training device: cpu\n"
     ]
    },
    {
     "data": {
      "text/plain": [
       "LSTM_layer(\n",
       "  (forget_gate): Linear(in_features=6, out_features=3, bias=True)\n",
       "  (input_gate): Linear(in_features=6, out_features=3, bias=True)\n",
       "  (cell_update): Linear(in_features=6, out_features=3, bias=True)\n",
       "  (out): Linear(in_features=6, out_features=3, bias=True)\n",
       "  (sigmoid): Sigmoid()\n",
       "  (tanh): Tanh()\n",
       ")"
      ]
     },
     "execution_count": 4,
     "metadata": {},
     "output_type": "execute_result"
    }
   ],
   "source": [
    "# Check if the GPU is available\n",
    "device = torch.device(\"cuda\") if torch.cuda.is_available() else torch.device(\"cpu\")\n",
    "print(f\"Training device: {device}\")\n",
    "\n",
    "### Set the random seed for reproducible results\n",
    "torch.manual_seed(0)\n",
    "\n",
    "### Initialize the two networks\n",
    "x_dim = 3\n",
    "h_dim = 3\n",
    "\n",
    "net = LSTM_layer(x_dim, h_dim)\n",
    "\n",
    "### Move to device\n",
    "net.to(device)"
   ]
  },
  {
   "cell_type": "code",
   "execution_count": 5,
   "id": "0bfaf0fc",
   "metadata": {},
   "outputs": [
    {
     "name": "stdout",
     "output_type": "stream",
     "text": [
      "tensor([[[0.5053, 0.3733, 0.5591]]], grad_fn=<SigmoidBackward0>)\n"
     ]
    }
   ],
   "source": [
    "# Check if the nets are working properly\n",
    "\n",
    "x = torch.randn(1,1,x_dim)\n",
    "h = torch.randn(1,1,h_dim)\n",
    "C = torch.randn(1,1,h_dim)\n",
    "\n",
    "out = net(x,h, C)\n",
    "print(out[0])"
   ]
  },
  {
   "cell_type": "markdown",
   "id": "f0ef963a",
   "metadata": {},
   "source": [
    "# Training"
   ]
  },
  {
   "cell_type": "markdown",
   "id": "76c0c280",
   "metadata": {},
   "source": [
    "## Save and load model"
   ]
  }
 ],
 "metadata": {
  "kernelspec": {
   "display_name": "Python 3",
   "language": "python",
   "name": "python3"
  },
  "language_info": {
   "codemirror_mode": {
    "name": "ipython",
    "version": 3
   },
   "file_extension": ".py",
   "mimetype": "text/x-python",
   "name": "python",
   "nbconvert_exporter": "python",
   "pygments_lexer": "ipython3",
   "version": "3.8.8"
  }
 },
 "nbformat": 4,
 "nbformat_minor": 5
}
